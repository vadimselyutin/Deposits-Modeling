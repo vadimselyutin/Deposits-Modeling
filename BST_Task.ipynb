{
 "cells": [
  {
   "cell_type": "markdown",
   "metadata": {},
   "source": [
    "# Отчет о решении задачи \"Моделирование вкладов физических лиц\""
   ]
  },
  {
   "cell_type": "markdown",
   "metadata": {},
   "source": [
    "## Data Analysis"
   ]
  },
  {
   "cell_type": "markdown",
   "metadata": {},
   "source": [
    "Проведем первичный анализ данных."
   ]
  },
  {
   "cell_type": "markdown",
   "metadata": {},
   "source": [
    "Для начала конвертируем excel таблицу в формат csv."
   ]
  },
  {
   "cell_type": "markdown",
   "metadata": {},
   "source": [
    "Ссылка на ресурс, откуда взят код: https://www.penwatch.net/cms/excel_to_csv/"
   ]
  },
  {
   "cell_type": "code",
   "execution_count": 1,
   "metadata": {},
   "outputs": [],
   "source": [
    "import xlrd\n",
    "import unicodecsv\n",
    "\n",
    "def xls2csv (xls_filename, csv_filename):\n",
    "    # Converts an Excel file to a CSV file.\n",
    "    # If the excel file has multiple worksheets, only the first worksheet is converted.\n",
    "    # Uses unicodecsv, so it will handle Unicode characters.\n",
    "    # Uses a recent version of xlrd, so it should handle old .xls and new .xlsx equally well.\n",
    "\n",
    "    wb = xlrd.open_workbook(xls_filename)\n",
    "    sh = wb.sheet_by_index(0)\n",
    "\n",
    "    fh = open(csv_filename,\"wb\")\n",
    "    csv_out = unicodecsv.writer(fh, encoding='utf-8')\n",
    "\n",
    "    for row_number in xrange (sh.nrows):\n",
    "        csv_out.writerow(sh.row_values(row_number))\n",
    "\n",
    "    fh.close()"
   ]
  },
  {
   "cell_type": "code",
   "execution_count": 2,
   "metadata": {},
   "outputs": [],
   "source": [
    "xls2csv ('Data.xlsx', 'Data_csv.csv')"
   ]
  },
  {
   "cell_type": "markdown",
   "metadata": {},
   "source": [
    "Импортируем некоторые необходимые модули."
   ]
  },
  {
   "cell_type": "code",
   "execution_count": 3,
   "metadata": {},
   "outputs": [],
   "source": [
    "import numpy as np\n",
    "import pandas as pd\n",
    "import matplotlib.pyplot as plt\n",
    "import seaborn as sb"
   ]
  },
  {
   "cell_type": "markdown",
   "metadata": {},
   "source": [
    "Считаем полученные данные и посмотрим на их размер."
   ]
  },
  {
   "cell_type": "code",
   "execution_count": 4,
   "metadata": {},
   "outputs": [],
   "source": [
    "df = pd.read_csv('Data_csv.csv')"
   ]
  },
  {
   "cell_type": "code",
   "execution_count": 5,
   "metadata": {},
   "outputs": [
    {
     "data": {
      "text/plain": [
       "(84, 12)"
      ]
     },
     "execution_count": 5,
     "metadata": {},
     "output_type": "execute_result"
    }
   ],
   "source": [
    "df.shape"
   ]
  },
  {
   "cell_type": "code",
   "execution_count": 6,
   "metadata": {},
   "outputs": [
    {
     "data": {
      "text/html": [
       "<div>\n",
       "<style scoped>\n",
       "    .dataframe tbody tr th:only-of-type {\n",
       "        vertical-align: middle;\n",
       "    }\n",
       "\n",
       "    .dataframe tbody tr th {\n",
       "        vertical-align: top;\n",
       "    }\n",
       "\n",
       "    .dataframe thead th {\n",
       "        text-align: right;\n",
       "    }\n",
       "</style>\n",
       "<table border=\"1\" class=\"dataframe\">\n",
       "  <thead>\n",
       "    <tr style=\"text-align: right;\">\n",
       "      <th></th>\n",
       "      <th>Unnamed: 0</th>\n",
       "      <th>Прирост вкладов физических лиц в рублях (млн руб)</th>\n",
       "      <th>Доходность ОФЗ по сроку до 1 года</th>\n",
       "      <th>Ключевая ставка</th>\n",
       "      <th>Ставка по вкладам в долларах до 1 года</th>\n",
       "      <th>Ставка по вкладам в рублях до 1 года</th>\n",
       "      <th>Нефть марки Юралс, долл./барр</th>\n",
       "      <th>Индекс потребительских цен, ед.</th>\n",
       "      <th>М0, руб</th>\n",
       "      <th>М2, руб</th>\n",
       "      <th>Курс доллара к рублю, руб</th>\n",
       "      <th>Номинальная средняя з/п, руб</th>\n",
       "    </tr>\n",
       "  </thead>\n",
       "  <tbody>\n",
       "    <tr>\n",
       "      <th>0</th>\n",
       "      <td>40544.0</td>\n",
       "      <td>-79049.0</td>\n",
       "      <td>5.244667</td>\n",
       "      <td>7.75</td>\n",
       "      <td>2.9</td>\n",
       "      <td>4.5</td>\n",
       "      <td>96.29</td>\n",
       "      <td>106.17151</td>\n",
       "      <td>5532900.0</td>\n",
       "      <td>19307.7</td>\n",
       "      <td>30.08</td>\n",
       "      <td>20669.0</td>\n",
       "    </tr>\n",
       "    <tr>\n",
       "      <th>1</th>\n",
       "      <td>40575.0</td>\n",
       "      <td>180475.0</td>\n",
       "      <td>5.144211</td>\n",
       "      <td>8.00</td>\n",
       "      <td>3.1</td>\n",
       "      <td>4.4</td>\n",
       "      <td>103.96</td>\n",
       "      <td>106.99964</td>\n",
       "      <td>5613700.0</td>\n",
       "      <td>19536.7</td>\n",
       "      <td>29.29</td>\n",
       "      <td>20680.0</td>\n",
       "    </tr>\n",
       "    <tr>\n",
       "      <th>2</th>\n",
       "      <td>40603.0</td>\n",
       "      <td>106845.0</td>\n",
       "      <td>5.021364</td>\n",
       "      <td>8.00</td>\n",
       "      <td>3.1</td>\n",
       "      <td>4.2</td>\n",
       "      <td>114.44</td>\n",
       "      <td>107.66304</td>\n",
       "      <td>5647000.0</td>\n",
       "      <td>19788.7</td>\n",
       "      <td>28.43</td>\n",
       "      <td>22673.0</td>\n",
       "    </tr>\n",
       "    <tr>\n",
       "      <th>3</th>\n",
       "      <td>40634.0</td>\n",
       "      <td>224890.0</td>\n",
       "      <td>4.558571</td>\n",
       "      <td>8.00</td>\n",
       "      <td>2.6</td>\n",
       "      <td>4.1</td>\n",
       "      <td>123.15</td>\n",
       "      <td>108.12599</td>\n",
       "      <td>5863400.0</td>\n",
       "      <td>20020.8</td>\n",
       "      <td>28.10</td>\n",
       "      <td>22519.0</td>\n",
       "    </tr>\n",
       "    <tr>\n",
       "      <th>4</th>\n",
       "      <td>40664.0</td>\n",
       "      <td>45856.0</td>\n",
       "      <td>4.795000</td>\n",
       "      <td>8.25</td>\n",
       "      <td>2.6</td>\n",
       "      <td>4.1</td>\n",
       "      <td>114.46</td>\n",
       "      <td>108.64500</td>\n",
       "      <td>5893400.0</td>\n",
       "      <td>20160.9</td>\n",
       "      <td>27.87</td>\n",
       "      <td>22779.0</td>\n",
       "    </tr>\n",
       "  </tbody>\n",
       "</table>\n",
       "</div>"
      ],
      "text/plain": [
       "   Unnamed: 0  Прирост вкладов физических лиц в рублях (млн руб)  \\\n",
       "0     40544.0                                           -79049.0   \n",
       "1     40575.0                                           180475.0   \n",
       "2     40603.0                                           106845.0   \n",
       "3     40634.0                                           224890.0   \n",
       "4     40664.0                                            45856.0   \n",
       "\n",
       "   Доходность ОФЗ по сроку до 1 года  Ключевая ставка  \\\n",
       "0                           5.244667             7.75   \n",
       "1                           5.144211             8.00   \n",
       "2                           5.021364             8.00   \n",
       "3                           4.558571             8.00   \n",
       "4                           4.795000             8.25   \n",
       "\n",
       "   Ставка по вкладам в долларах до 1 года  \\\n",
       "0                                     2.9   \n",
       "1                                     3.1   \n",
       "2                                     3.1   \n",
       "3                                     2.6   \n",
       "4                                     2.6   \n",
       "\n",
       "   Ставка по вкладам в рублях до 1 года  Нефть марки Юралс, долл./барр  \\\n",
       "0                                   4.5                          96.29   \n",
       "1                                   4.4                         103.96   \n",
       "2                                   4.2                         114.44   \n",
       "3                                   4.1                         123.15   \n",
       "4                                   4.1                         114.46   \n",
       "\n",
       "   Индекс потребительских цен, ед.    М0, руб  М2, руб  \\\n",
       "0                        106.17151  5532900.0  19307.7   \n",
       "1                        106.99964  5613700.0  19536.7   \n",
       "2                        107.66304  5647000.0  19788.7   \n",
       "3                        108.12599  5863400.0  20020.8   \n",
       "4                        108.64500  5893400.0  20160.9   \n",
       "\n",
       "   Курс доллара к рублю, руб  Номинальная средняя з/п, руб  \n",
       "0                      30.08                       20669.0  \n",
       "1                      29.29                       20680.0  \n",
       "2                      28.43                       22673.0  \n",
       "3                      28.10                       22519.0  \n",
       "4                      27.87                       22779.0  "
      ]
     },
     "execution_count": 6,
     "metadata": {},
     "output_type": "execute_result"
    }
   ],
   "source": [
    "df.head()"
   ]
  },
  {
   "cell_type": "markdown",
   "metadata": {},
   "source": [
    "Изменим названия колонок, чтобы с ними было удобнее работать."
   ]
  },
  {
   "cell_type": "code",
   "execution_count": 7,
   "metadata": {},
   "outputs": [],
   "source": [
    "df.columns = ['date', 'dep_incr', 'ofz_yield', 'key_rate', 'dep_rate_dollars', 'dep_rate_rubles', 'urals_oil', 'cons_pr_index', 'm0', 'm2', 'dollar_rate', 'nom_avrg_salary']"
   ]
  },
  {
   "cell_type": "markdown",
   "metadata": {},
   "source": [
    "При считывании данных колонка с датой преобразовалась в непривычный для восприятия формат. Данные числа (40544, 40575 и т.д.) являются ни чем иным, как количеством дней, прошедших с 01.01.1900. Поэтому можно оставить их в таком виде."
   ]
  },
  {
   "cell_type": "code",
   "execution_count": 8,
   "metadata": {},
   "outputs": [
    {
     "data": {
      "text/html": [
       "<div>\n",
       "<style scoped>\n",
       "    .dataframe tbody tr th:only-of-type {\n",
       "        vertical-align: middle;\n",
       "    }\n",
       "\n",
       "    .dataframe tbody tr th {\n",
       "        vertical-align: top;\n",
       "    }\n",
       "\n",
       "    .dataframe thead th {\n",
       "        text-align: right;\n",
       "    }\n",
       "</style>\n",
       "<table border=\"1\" class=\"dataframe\">\n",
       "  <thead>\n",
       "    <tr style=\"text-align: right;\">\n",
       "      <th></th>\n",
       "      <th>date</th>\n",
       "      <th>dep_incr</th>\n",
       "      <th>ofz_yield</th>\n",
       "      <th>key_rate</th>\n",
       "      <th>dep_rate_dollars</th>\n",
       "      <th>dep_rate_rubles</th>\n",
       "      <th>urals_oil</th>\n",
       "      <th>cons_pr_index</th>\n",
       "      <th>m0</th>\n",
       "      <th>m2</th>\n",
       "      <th>dollar_rate</th>\n",
       "      <th>nom_avrg_salary</th>\n",
       "    </tr>\n",
       "  </thead>\n",
       "  <tbody>\n",
       "    <tr>\n",
       "      <th>0</th>\n",
       "      <td>40544.0</td>\n",
       "      <td>-79049.0</td>\n",
       "      <td>5.244667</td>\n",
       "      <td>7.75</td>\n",
       "      <td>2.9</td>\n",
       "      <td>4.5</td>\n",
       "      <td>96.29</td>\n",
       "      <td>106.17151</td>\n",
       "      <td>5532900.0</td>\n",
       "      <td>19307.7</td>\n",
       "      <td>30.08</td>\n",
       "      <td>20669.0</td>\n",
       "    </tr>\n",
       "    <tr>\n",
       "      <th>1</th>\n",
       "      <td>40575.0</td>\n",
       "      <td>180475.0</td>\n",
       "      <td>5.144211</td>\n",
       "      <td>8.00</td>\n",
       "      <td>3.1</td>\n",
       "      <td>4.4</td>\n",
       "      <td>103.96</td>\n",
       "      <td>106.99964</td>\n",
       "      <td>5613700.0</td>\n",
       "      <td>19536.7</td>\n",
       "      <td>29.29</td>\n",
       "      <td>20680.0</td>\n",
       "    </tr>\n",
       "    <tr>\n",
       "      <th>2</th>\n",
       "      <td>40603.0</td>\n",
       "      <td>106845.0</td>\n",
       "      <td>5.021364</td>\n",
       "      <td>8.00</td>\n",
       "      <td>3.1</td>\n",
       "      <td>4.2</td>\n",
       "      <td>114.44</td>\n",
       "      <td>107.66304</td>\n",
       "      <td>5647000.0</td>\n",
       "      <td>19788.7</td>\n",
       "      <td>28.43</td>\n",
       "      <td>22673.0</td>\n",
       "    </tr>\n",
       "    <tr>\n",
       "      <th>3</th>\n",
       "      <td>40634.0</td>\n",
       "      <td>224890.0</td>\n",
       "      <td>4.558571</td>\n",
       "      <td>8.00</td>\n",
       "      <td>2.6</td>\n",
       "      <td>4.1</td>\n",
       "      <td>123.15</td>\n",
       "      <td>108.12599</td>\n",
       "      <td>5863400.0</td>\n",
       "      <td>20020.8</td>\n",
       "      <td>28.10</td>\n",
       "      <td>22519.0</td>\n",
       "    </tr>\n",
       "    <tr>\n",
       "      <th>4</th>\n",
       "      <td>40664.0</td>\n",
       "      <td>45856.0</td>\n",
       "      <td>4.795000</td>\n",
       "      <td>8.25</td>\n",
       "      <td>2.6</td>\n",
       "      <td>4.1</td>\n",
       "      <td>114.46</td>\n",
       "      <td>108.64500</td>\n",
       "      <td>5893400.0</td>\n",
       "      <td>20160.9</td>\n",
       "      <td>27.87</td>\n",
       "      <td>22779.0</td>\n",
       "    </tr>\n",
       "  </tbody>\n",
       "</table>\n",
       "</div>"
      ],
      "text/plain": [
       "      date  dep_incr  ofz_yield  key_rate  dep_rate_dollars  dep_rate_rubles  \\\n",
       "0  40544.0  -79049.0   5.244667      7.75               2.9              4.5   \n",
       "1  40575.0  180475.0   5.144211      8.00               3.1              4.4   \n",
       "2  40603.0  106845.0   5.021364      8.00               3.1              4.2   \n",
       "3  40634.0  224890.0   4.558571      8.00               2.6              4.1   \n",
       "4  40664.0   45856.0   4.795000      8.25               2.6              4.1   \n",
       "\n",
       "   urals_oil  cons_pr_index         m0       m2  dollar_rate  nom_avrg_salary  \n",
       "0      96.29      106.17151  5532900.0  19307.7        30.08          20669.0  \n",
       "1     103.96      106.99964  5613700.0  19536.7        29.29          20680.0  \n",
       "2     114.44      107.66304  5647000.0  19788.7        28.43          22673.0  \n",
       "3     123.15      108.12599  5863400.0  20020.8        28.10          22519.0  \n",
       "4     114.46      108.64500  5893400.0  20160.9        27.87          22779.0  "
      ]
     },
     "execution_count": 8,
     "metadata": {},
     "output_type": "execute_result"
    }
   ],
   "source": [
    "df.head()"
   ]
  },
  {
   "cell_type": "markdown",
   "metadata": {},
   "source": [
    "Выделим целевой признак - прирост вкладов физических лиц в рублях (млн руб)."
   ]
  },
  {
   "cell_type": "code",
   "execution_count": 9,
   "metadata": {},
   "outputs": [],
   "source": [
    "y = df.dep_incr\n",
    "X = df.drop(columns=['dep_incr'])"
   ]
  },
  {
   "cell_type": "markdown",
   "metadata": {},
   "source": [
    "Взглянем на попарные корреляции признаков."
   ]
  },
  {
   "cell_type": "markdown",
   "metadata": {},
   "source": [
    "Больше всего целевой признак dep_incr коррелирует с norm_avrg_salary (номинальная средняя з/п), менее всего - с признаками ofz_yield (доходность ОФЗ по сроку до 1 года), deep_rate_dollars (ставка по вкладам в долларах), urals_oil (нефть марки Юралс)."
   ]
  },
  {
   "cell_type": "markdown",
   "metadata": {},
   "source": [
    "В выборке есть признаки, коррелирующие с целевым, а значит, задачу можно решать линейными методами."
   ]
  },
  {
   "cell_type": "code",
   "execution_count": 10,
   "metadata": {},
   "outputs": [
    {
     "name": "stdout",
     "output_type": "stream",
     "text": [
      "date                0.092411\n",
      "ofz_yield          -0.017400\n",
      "key_rate            0.016667\n",
      "dep_rate_dollars   -0.034415\n",
      "dep_rate_rubles     0.025006\n",
      "urals_oil          -0.068321\n",
      "cons_pr_index       0.102976\n",
      "m0                  0.186576\n",
      "m2                  0.146645\n",
      "dollar_rate         0.080033\n",
      "nom_avrg_salary     0.422435\n",
      "dtype: float64\n"
     ]
    }
   ],
   "source": [
    "dfc = X.corrwith(y)\n",
    "print dfc"
   ]
  },
  {
   "cell_type": "code",
   "execution_count": 11,
   "metadata": {},
   "outputs": [
    {
     "data": {
      "text/plain": [
       "<matplotlib.axes._subplots.AxesSubplot at 0x1d2c2828>"
      ]
     },
     "execution_count": 11,
     "metadata": {},
     "output_type": "execute_result"
    },
    {
     "data": {
      "image/png": "[encoded data removed]",
      "text/plain": [
       "<matplotlib.figure.Figure at 0x71a4b38>"
      ]
     },
     "metadata": {},
     "output_type": "display_data"
    }
   ],
   "source": [
    "sb.heatmap(df.corr(), square=True)"
   ]
  },
  {
   "cell_type": "markdown",
   "metadata": {},
   "source": [
    "Посмотрим средние признаков, чтобы оценить их масштаб."
   ]
  },
  {
   "cell_type": "code",
   "execution_count": 12,
   "metadata": {},
   "outputs": [
    {
     "data": {
      "text/plain": [
       "date                4.180660e+04\n",
       "dep_incr            1.514771e+05\n",
       "ofz_yield           7.875670e+00\n",
       "key_rate            9.130952e+00\n",
       "dep_rate_dollars    2.184643e+00\n",
       "dep_rate_rubles     6.233929e+00\n",
       "urals_oil           8.311810e+01\n",
       "cons_pr_index       1.367257e+02\n",
       "m0                  7.806555e+06\n",
       "m2                  3.010574e+04\n",
       "dollar_rate         4.528869e+01\n",
       "nom_avrg_salary     3.187713e+04\n",
       "dtype: float64"
      ]
     },
     "execution_count": 12,
     "metadata": {},
     "output_type": "execute_result"
    }
   ],
   "source": [
    "np.mean(df)"
   ]
  },
  {
   "cell_type": "markdown",
   "metadata": {},
   "source": [
    "Признаки имеют разный масштаб, значит для дальнейшей работы нам лучше нормировать матрицу объекты-признаки."
   ]
  },
  {
   "cell_type": "code",
   "execution_count": 13,
   "metadata": {},
   "outputs": [],
   "source": [
    "from sklearn.preprocessing import scale\n",
    "from sklearn.utils import shuffle"
   ]
  },
  {
   "cell_type": "code",
   "execution_count": 14,
   "metadata": {},
   "outputs": [],
   "source": [
    "df_shuffled = shuffle(df, random_state=123)\n",
    "X_scaled = scale(df_shuffled.drop(columns=['dep_incr']))\n",
    "y_scaled = df_shuffled.dep_incr"
   ]
  },
  {
   "cell_type": "markdown",
   "metadata": {},
   "source": [
    "Разделим данные на обучающую и тестовую выборки."
   ]
  },
  {
   "cell_type": "code",
   "execution_count": 15,
   "metadata": {},
   "outputs": [],
   "source": [
    "from sklearn.model_selection import train_test_split\n",
    "\n",
    "(X_train, X_test, y_train, y_test) = train_test_split(X_scaled, y_scaled, test_size=0.3, shuffle=True)"
   ]
  },
  {
   "cell_type": "markdown",
   "metadata": {},
   "source": [
    "## Linear Regression"
   ]
  },
  {
   "cell_type": "markdown",
   "metadata": {},
   "source": [
    "В качестве наивного base-line решения построим и обучим модель линейной регрессии."
   ]
  },
  {
   "cell_type": "code",
   "execution_count": 16,
   "metadata": {},
   "outputs": [],
   "source": [
    "from sklearn.linear_model import LinearRegression\n",
    "from sklearn import metrics"
   ]
  },
  {
   "cell_type": "code",
   "execution_count": 17,
   "metadata": {},
   "outputs": [
    {
     "data": {
      "text/plain": [
       "LinearRegression(copy_X=True, fit_intercept=True, n_jobs=1, normalize=False)"
      ]
     },
     "execution_count": 17,
     "metadata": {},
     "output_type": "execute_result"
    }
   ],
   "source": [
    "lr_model = LinearRegression()\n",
    "lr_model.fit(X_train, y_train)"
   ]
  },
  {
   "cell_type": "markdown",
   "metadata": {},
   "source": [
    "Посмотрим на веса признаков."
   ]
  },
  {
   "cell_type": "code",
   "execution_count": 18,
   "metadata": {},
   "outputs": [
    {
     "data": {
      "text/plain": [
       "[('date', -987476.8991127176),\n",
       " ('dep_incr', -195362.22023182808),\n",
       " ('ofz_yield', 127407.80979338066),\n",
       " ('key_rate', 119144.70998658999),\n",
       " ('dep_rate_dollars', -91534.558725720824),\n",
       " ('dep_rate_rubles', 156395.18780673723),\n",
       " ('urals_oil', 979998.58686072077),\n",
       " ('cons_pr_index', 390320.30034874578),\n",
       " ('m0', -496782.87208244315),\n",
       " ('m2', 124379.77447185494),\n",
       " ('dollar_rate', 451291.17794816312)]"
      ]
     },
     "execution_count": 18,
     "metadata": {},
     "output_type": "execute_result"
    }
   ],
   "source": [
    "zip(df.columns, lr_model.coef_)"
   ]
  },
  {
   "cell_type": "markdown",
   "metadata": {},
   "source": [
    "Мы видим, что веса при некоторых признаках по модулю значительно больше, чем при других."
   ]
  },
  {
   "cell_type": "markdown",
   "metadata": {},
   "source": [
    "В качестве метрики качества будем использовать rmse."
   ]
  },
  {
   "cell_type": "code",
   "execution_count": 19,
   "metadata": {},
   "outputs": [],
   "source": [
    "from sklearn.metrics import mean_squared_error\n",
    "\n",
    "def rmse(y_actual, y_predicted):\n",
    "    return np.sqrt(mean_squared_error(y_actual, y_predicted))"
   ]
  },
  {
   "cell_type": "markdown",
   "metadata": {},
   "source": [
    "Найднем значение rmse на тестовой выборке."
   ]
  },
  {
   "cell_type": "code",
   "execution_count": 20,
   "metadata": {},
   "outputs": [],
   "source": [
    "y_pred = lr_model.predict(X_test)"
   ]
  },
  {
   "cell_type": "code",
   "execution_count": 21,
   "metadata": {},
   "outputs": [
    {
     "name": "stdout",
     "output_type": "stream",
     "text": [
      "273901.070351\n"
     ]
    }
   ],
   "source": [
    "print rmse(y_test, y_pred)"
   ]
  },
  {
   "cell_type": "markdown",
   "metadata": {},
   "source": [
    "Найднем значение rmse ошибки на обучающей выборке."
   ]
  },
  {
   "cell_type": "code",
   "execution_count": 22,
   "metadata": {},
   "outputs": [],
   "source": [
    "y_pred = lr_model.predict(X_train)"
   ]
  },
  {
   "cell_type": "code",
   "execution_count": 23,
   "metadata": {},
   "outputs": [
    {
     "name": "stdout",
     "output_type": "stream",
     "text": [
      "141495.066693\n"
     ]
    }
   ],
   "source": [
    "print rmse(y_train, y_pred)"
   ]
  },
  {
   "cell_type": "markdown",
   "metadata": {},
   "source": [
    "Два этих значения довольно велики. Постараемся минимизировать их, а также решить проблему мультиколлинеарности при помощи Lasso и Ridge регрессоров."
   ]
  },
  {
   "cell_type": "markdown",
   "metadata": {},
   "source": [
    "## Lasso Regression"
   ]
  },
  {
   "cell_type": "code",
   "execution_count": 24,
   "metadata": {},
   "outputs": [],
   "source": [
    "from sklearn.linear_model import Lasso"
   ]
  },
  {
   "cell_type": "code",
   "execution_count": 25,
   "metadata": {},
   "outputs": [
    {
     "data": {
      "text/plain": [
       "[('date', -708932.5326810031),\n",
       " ('dep_incr', -218407.66805683207),\n",
       " ('ofz_yield', 144732.53165031003),\n",
       " ('key_rate', 113517.06893628769),\n",
       " ('dep_rate_dollars', -79804.309745871273),\n",
       " ('dep_rate_rubles', 144299.61291559931),\n",
       " ('urals_oil', 743874.33665746695),\n",
       " ('cons_pr_index', 303043.73726123915),\n",
       " ('m0', -517616.32373422245),\n",
       " ('m2', 140609.76213285138),\n",
       " ('dollar_rate', 486846.86496879131)]"
      ]
     },
     "execution_count": 25,
     "metadata": {},
     "output_type": "execute_result"
    }
   ],
   "source": [
    "lasso_regressor = Lasso()\n",
    "lasso_regressor.fit(X_train, y_train)\n",
    "zip(df.columns, lasso_regressor.coef_)"
   ]
  },
  {
   "cell_type": "markdown",
   "metadata": {},
   "source": [
    "Результат на тестовой выборке:"
   ]
  },
  {
   "cell_type": "code",
   "execution_count": 26,
   "metadata": {},
   "outputs": [],
   "source": [
    "y_pred = lasso_regressor.predict(X_test)"
   ]
  },
  {
   "cell_type": "code",
   "execution_count": 27,
   "metadata": {},
   "outputs": [
    {
     "name": "stdout",
     "output_type": "stream",
     "text": [
      "279224.131199\n"
     ]
    }
   ],
   "source": [
    "print rmse(y_test, y_pred)"
   ]
  },
  {
   "cell_type": "markdown",
   "metadata": {},
   "source": [
    "Результат на обучающей выборке:"
   ]
  },
  {
   "cell_type": "code",
   "execution_count": 28,
   "metadata": {},
   "outputs": [],
   "source": [
    "y_pred = lasso_regressor.predict(X_train)"
   ]
  },
  {
   "cell_type": "code",
   "execution_count": 29,
   "metadata": {},
   "outputs": [
    {
     "name": "stdout",
     "output_type": "stream",
     "text": [
      "141788.405352\n"
     ]
    }
   ],
   "source": [
    "print rmse(y_train, y_pred)"
   ]
  },
  {
   "cell_type": "markdown",
   "metadata": {},
   "source": [
    "К сожалению, значительного улучшения не наблюдается. Давайте посмотрим, как справится Ridge регрессор."
   ]
  },
  {
   "cell_type": "markdown",
   "metadata": {},
   "source": [
    "## Ridge Regression"
   ]
  },
  {
   "cell_type": "code",
   "execution_count": 30,
   "metadata": {},
   "outputs": [],
   "source": [
    "from sklearn.linear_model import Ridge"
   ]
  },
  {
   "cell_type": "code",
   "execution_count": 31,
   "metadata": {},
   "outputs": [
    {
     "data": {
      "text/plain": [
       "[('date', -169261.17642391805),\n",
       " ('dep_incr', -180525.4795240743),\n",
       " ('ofz_yield', 139125.00459943042),\n",
       " ('key_rate', 88252.761045576975),\n",
       " ('dep_rate_dollars', -48527.764995506986),\n",
       " ('dep_rate_rubles', 31609.830362162418),\n",
       " ('urals_oil', -14343.8733039864),\n",
       " ('cons_pr_index', -22888.164137844738),\n",
       " ('m0', -124900.78807568805),\n",
       " ('m2', 114964.51816115589),\n",
       " ('dollar_rate', 476615.19028157403)]"
      ]
     },
     "execution_count": 31,
     "metadata": {},
     "output_type": "execute_result"
    }
   ],
   "source": [
    "ridge_regressor = Ridge()\n",
    "ridge_regressor.fit(X_train, y_train)\n",
    "zip(df.columns, ridge_regressor.coef_)"
   ]
  },
  {
   "cell_type": "code",
   "execution_count": 32,
   "metadata": {},
   "outputs": [],
   "source": [
    "y_pred = ridge_regressor.predict(X_test)"
   ]
  },
  {
   "cell_type": "code",
   "execution_count": 33,
   "metadata": {},
   "outputs": [
    {
     "name": "stdout",
     "output_type": "stream",
     "text": [
      "244362.694623\n"
     ]
    }
   ],
   "source": [
    "print rmse(y_test, y_pred)"
   ]
  },
  {
   "cell_type": "code",
   "execution_count": 34,
   "metadata": {},
   "outputs": [],
   "source": [
    "y_pred = ridge_regressor.predict(X_train)"
   ]
  },
  {
   "cell_type": "code",
   "execution_count": 35,
   "metadata": {},
   "outputs": [
    {
     "name": "stdout",
     "output_type": "stream",
     "text": [
      "150930.925945\n"
     ]
    }
   ],
   "source": [
    "print rmse(y_train, y_pred)"
   ]
  },
  {
   "cell_type": "markdown",
   "metadata": {},
   "source": [
    "Значение ошибки по-прежнему велико."
   ]
  },
  {
   "cell_type": "markdown",
   "metadata": {},
   "source": [
    "## Random Forest Regressor"
   ]
  },
  {
   "cell_type": "markdown",
   "metadata": {},
   "source": [
    "Посмотрим, какие результаты покажет случайный лес."
   ]
  },
  {
   "cell_type": "code",
   "execution_count": 36,
   "metadata": {},
   "outputs": [],
   "source": [
    "from sklearn.ensemble import RandomForestRegressor\n",
    "from sklearn.model_selection import GridSearchCV"
   ]
  },
  {
   "cell_type": "markdown",
   "metadata": {},
   "source": [
    "Подберем оптимальные параметры при помощи сетки."
   ]
  },
  {
   "cell_type": "code",
   "execution_count": 37,
   "metadata": {},
   "outputs": [
    {
     "data": {
      "text/plain": [
       "GridSearchCV(cv=4, error_score='raise',\n",
       "       estimator=RandomForestRegressor(bootstrap=True, criterion='mse', max_depth=None,\n",
       "           max_features='auto', max_leaf_nodes=None,\n",
       "           min_impurity_decrease=0.0, min_impurity_split=None,\n",
       "           min_samples_leaf=1, min_samples_split=2,\n",
       "           min_weight_fraction_leaf=0.0, n_estimators=10, n_jobs=1,\n",
       "           oob_score=False, random_state=None, verbose=0, warm_start=False),\n",
       "       fit_params=None, iid=True, n_jobs=1,\n",
       "       param_grid={'min_samples_leaf': [1, 2, 3, 4], 'n_estimators': [4, 6, 8, 10], 'min_samples_split': [4, 5, 6, 8], 'criterion': ['mse'], 'max_features': ['auto', 'sqrt', 'log2'], 'max_depth': [3, 4, 5]},\n",
       "       pre_dispatch='2*n_jobs', refit=True, return_train_score='warn',\n",
       "       scoring=None, verbose=0)"
      ]
     },
     "execution_count": 37,
     "metadata": {},
     "output_type": "execute_result"
    }
   ],
   "source": [
    "param_grid = {'n_estimators': [4,6,8,10], 'criterion': ['mse'], 'max_features': ['auto', 'sqrt', 'log2'],\n",
    "              'max_depth': [3, 4, 5], 'min_samples_split': [4,5,6,8], 'min_samples_leaf': [1, 2, 3, 4]}\n",
    "\n",
    "regr = RandomForestRegressor()\n",
    "optimizer = GridSearchCV(regr, param_grid, cv=4)\n",
    "optimizer.fit(X_train, y_train)"
   ]
  },
  {
   "cell_type": "code",
   "execution_count": 38,
   "metadata": {},
   "outputs": [
    {
     "name": "stdout",
     "output_type": "stream",
     "text": [
      "{'min_samples_leaf': 2, 'n_estimators': 10, 'min_samples_split': 5, 'criterion': 'mse', 'max_features': 'auto', 'max_depth': 5}\n"
     ]
    }
   ],
   "source": [
    "print optimizer.best_params_"
   ]
  },
  {
   "cell_type": "code",
   "execution_count": 39,
   "metadata": {},
   "outputs": [],
   "source": [
    "y_pred = optimizer.predict(X_test)"
   ]
  },
  {
   "cell_type": "code",
   "execution_count": 40,
   "metadata": {},
   "outputs": [
    {
     "data": {
      "text/plain": [
       "222471.7235805573"
      ]
     },
     "execution_count": 40,
     "metadata": {},
     "output_type": "execute_result"
    }
   ],
   "source": [
    "rmse(y_pred, y_test)"
   ]
  },
  {
   "cell_type": "code",
   "execution_count": 41,
   "metadata": {},
   "outputs": [],
   "source": [
    "y_pred = optimizer.predict(X_train)"
   ]
  },
  {
   "cell_type": "code",
   "execution_count": 42,
   "metadata": {},
   "outputs": [
    {
     "data": {
      "text/plain": [
       "160518.73186313323"
      ]
     },
     "execution_count": 42,
     "metadata": {},
     "output_type": "execute_result"
    }
   ],
   "source": [
    "rmse(y_pred, y_train)"
   ]
  },
  {
   "cell_type": "markdown",
   "metadata": {},
   "source": [
    "## XGBoost"
   ]
  },
  {
   "cell_type": "markdown",
   "metadata": {},
   "source": [
    "Построим и обучим xgboost модель в качестве кандидата на основное решение."
   ]
  },
  {
   "cell_type": "code",
   "execution_count": 43,
   "metadata": {},
   "outputs": [],
   "source": [
    "import os\n",
    "mingw_path = 'C:\\\\Program Files\\\\mingw-w64\\\\x86_64-7.3.0-posix-seh-rt_v5-rev0\\\\mingw64\\\\bin'\n",
    "os.environ['PATH'] = mingw_path + ';' + os.environ['PATH']\n",
    "import xgboost as xgb"
   ]
  },
  {
   "cell_type": "markdown",
   "metadata": {},
   "source": [
    "Нам понадобится отделить от обучающей выборки некоторую часть для валидации."
   ]
  },
  {
   "cell_type": "code",
   "execution_count": 44,
   "metadata": {},
   "outputs": [],
   "source": [
    "(X_train, X_valid, y_train, y_valid) = train_test_split(X_train, y_train, test_size=0.3, shuffle=True)"
   ]
  },
  {
   "cell_type": "code",
   "execution_count": 45,
   "metadata": {},
   "outputs": [
    {
     "data": {
      "text/plain": [
       "(40L, 11L)"
      ]
     },
     "execution_count": 45,
     "metadata": {},
     "output_type": "execute_result"
    }
   ],
   "source": [
    "X_train.shape"
   ]
  },
  {
   "cell_type": "code",
   "execution_count": 46,
   "metadata": {},
   "outputs": [
    {
     "data": {
      "text/plain": [
       "(18L, 11L)"
      ]
     },
     "execution_count": 46,
     "metadata": {},
     "output_type": "execute_result"
    }
   ],
   "source": [
    "X_valid.shape"
   ]
  },
  {
   "cell_type": "code",
   "execution_count": 47,
   "metadata": {},
   "outputs": [
    {
     "data": {
      "text/plain": [
       "(26L, 11L)"
      ]
     },
     "execution_count": 47,
     "metadata": {},
     "output_type": "execute_result"
    }
   ],
   "source": [
    "X_test.shape"
   ]
  },
  {
   "cell_type": "code",
   "execution_count": 48,
   "metadata": {},
   "outputs": [],
   "source": [
    "dtrain = xgb.DMatrix(X_train, label=y_train)\n",
    "dvalid = xgb.DMatrix(X_valid, label=y_valid)\n",
    "dtest = xgb.DMatrix(X_test)\n",
    "watchlist = [(dtrain, 'train'), (dvalid, 'valid')]"
   ]
  },
  {
   "cell_type": "markdown",
   "metadata": {},
   "source": [
    "Подберем соответствующим образом параметры."
   ]
  },
  {
   "cell_type": "code",
   "execution_count": 49,
   "metadata": {},
   "outputs": [],
   "source": [
    "xgb_par = {'learning_rate': 1, 'min_child_weight': 10, 'eta': 0.9, 'colsample_bytree': 0.5, 'max_depth': 4,\n",
    "            'subsample': 0.9, 'lambda': 2.0, 'nthread': -1, 'silent': 1,\n",
    "            'eval_metric': 'rmse', 'objective': 'reg:linear', 'gamma': 0.1}"
   ]
  },
  {
   "cell_type": "code",
   "execution_count": 50,
   "metadata": {},
   "outputs": [
    {
     "name": "stdout",
     "output_type": "stream",
     "text": [
      "[0]\ttrain-rmse:220975\tvalid-rmse:373442\n",
      "Multiple eval metrics have been passed: 'valid-rmse' will be used for early stopping.\n",
      "\n",
      "Will train until valid-rmse hasn't improved in 50 rounds.\n",
      "[20]\ttrain-rmse:92155.1\tvalid-rmse:245828\n",
      "[40]\ttrain-rmse:49251.8\tvalid-rmse:218280\n",
      "[60]\ttrain-rmse:29615.9\tvalid-rmse:213667\n",
      "[80]\ttrain-rmse:19121.2\tvalid-rmse:211206\n",
      "[99]\ttrain-rmse:13720.5\tvalid-rmse:204046\n"
     ]
    }
   ],
   "source": [
    "xgb_model = xgb.train(xgb_par, dtrain, 100, watchlist, early_stopping_rounds=50, maximize=False, verbose_eval=20)"
   ]
  },
  {
   "cell_type": "code",
   "execution_count": 51,
   "metadata": {},
   "outputs": [],
   "source": [
    "y_pred = xgb_model.predict(dtest)"
   ]
  },
  {
   "cell_type": "code",
   "execution_count": 52,
   "metadata": {},
   "outputs": [
    {
     "name": "stdout",
     "output_type": "stream",
     "text": [
      "348207.463769\n"
     ]
    }
   ],
   "source": [
    "print rmse(y_test, y_pred)"
   ]
  },
  {
   "cell_type": "code",
   "execution_count": 53,
   "metadata": {},
   "outputs": [],
   "source": [
    "y_pred = xgb_model.predict(dtrain)"
   ]
  },
  {
   "cell_type": "code",
   "execution_count": 54,
   "metadata": {},
   "outputs": [
    {
     "name": "stdout",
     "output_type": "stream",
     "text": [
      "13720.5061641\n"
     ]
    }
   ],
   "source": [
    "print rmse(y_train, y_pred)"
   ]
  },
  {
   "cell_type": "markdown",
   "metadata": {},
   "source": [
    "XGBoost также не привнес какого-либо улучшения результатов. Возможно, это связано с недостаточным размером данных для обучения."
   ]
  },
  {
   "cell_type": "markdown",
   "metadata": {},
   "source": [
    "Таким образом, наилучшим решением остается использование случайного леса или линейной модели с регуляризатором."
   ]
  }
 ],
 "metadata": {
  "kernelspec": {
   "display_name": "Python 2",
   "language": "python",
   "name": "python2"
  },
  "language_info": {
   "codemirror_mode": {
    "name": "ipython",
    "version": 2
   },
   "file_extension": ".py",
   "mimetype": "text/x-python",
   "name": "python",
   "nbconvert_exporter": "python",
   "pygments_lexer": "ipython2",
   "version": "2.7.14"
  }
 },
 "nbformat": 4,
 "nbformat_minor": 2
}
